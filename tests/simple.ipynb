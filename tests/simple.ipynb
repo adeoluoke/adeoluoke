{
  "nbformat": 4,
  "nbformat_minor": 0,
  "metadata": {
    "colab": {
      "name": "Simple",
      "provenance": [],
      "include_colab_link": true
    },
    "kernelspec": {
      "name": "python3",
      "display_name": "Python 3"
    }
  },
  "cells": [
    {
      "cell_type": "markdown",
      "metadata": {
        "id": "view-in-github",
        "colab_type": "text"
      },
      "source": [
        "<a href=\"https://colab.research.google.com/github/adeoluoke/adeoluoke/blob/main/tests/simple.ipynb\" target=\"_parent\"><img src=\"https://colab.research.google.com/assets/colab-badge.svg\" alt=\"Open In Colab\"/></a>"
      ]
    },
    {
      "cell_type": "markdown",
      "source": [
        "This is just a test for my first python code"
      ],
      "metadata": {
        "id": "G_AW4Vqj6Xq2"
      }
    },
    {
      "metadata": {
        "id": "NwK2eKbS4X96",
        "colab": {
          "base_uri": "https://localhost:8080/"
        },
        "outputId": "7e61832e-6fb4-4845-f395-29a0e7a6fe62"
      },
      "cell_type": "code",
      "source": [
        "print (1+1)"
      ],
      "execution_count": 3,
      "outputs": [
        {
          "output_type": "stream",
          "name": "stdout",
          "text": [
            "2\n"
          ]
        }
      ]
    },
    {
      "cell_type": "code",
      "source": [
        "print (\"hello python\")"
      ],
      "metadata": {
        "colab": {
          "base_uri": "https://localhost:8080/"
        },
        "id": "CWctrB2z6Nhb",
        "outputId": "870db64a-05e0-4b83-aeb3-1545ebfa46e4"
      },
      "execution_count": 2,
      "outputs": [
        {
          "output_type": "stream",
          "name": "stdout",
          "text": [
            "hello python\n"
          ]
        }
      ]
    },
    {
      "cell_type": "code",
      "source": [
        "character_figure = 5\n",
        "print (character_figure)"
      ],
      "metadata": {
        "colab": {
          "base_uri": "https://localhost:8080/"
        },
        "id": "CzH8GkaT7Zsf",
        "outputId": "33f9e44c-92bb-4515-ce42-15979d0040ba"
      },
      "execution_count": 4,
      "outputs": [
        {
          "output_type": "stream",
          "name": "stdout",
          "text": [
            "5\n"
          ]
        }
      ]
    },
    {
      "cell_type": "code",
      "source": [],
      "metadata": {
        "id": "_jS0or5rHmcK"
      },
      "execution_count": 12,
      "outputs": []
    }
  ]
}